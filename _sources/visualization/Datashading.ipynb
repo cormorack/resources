{
 "cells": [
  {
   "cell_type": "markdown",
   "id": "fancy-intermediate",
   "metadata": {},
   "source": [
    "# How Interactive Oceans Displays Large Dataset"
   ]
  },
  {
   "cell_type": "markdown",
   "id": "imperial-digit",
   "metadata": {},
   "source": [
    "This notebook will walk you through our process in displaying some of the large datasets from OOI"
   ]
  },
  {
   "cell_type": "code",
   "execution_count": null,
   "id": "explicit-destiny",
   "metadata": {},
   "outputs": [],
   "source": [
    "import cmocean\n",
    "from dask.utils import memory_repr\n",
    "import matplotlib.pyplot as plt\n",
    "import hvplot.xarray\n",
    "\n",
    "from ooi_harvester.models import OOIDataset"
   ]
  },
  {
   "cell_type": "markdown",
   "id": "accurate-excess",
   "metadata": {},
   "source": [
    "## Get Data"
   ]
  },
  {
   "cell_type": "markdown",
   "id": "verified-combining",
   "metadata": {},
   "source": [
    "We will be requesting **Axial Base Shallow Profiler CTD Data**"
   ]
  },
  {
   "cell_type": "code",
   "execution_count": null,
   "id": "current-driver",
   "metadata": {},
   "outputs": [],
   "source": [
    "desired_parameters = ['time', 'seawater_pressure', 'seawater_temperature']"
   ]
  },
  {
   "cell_type": "code",
   "execution_count": null,
   "id": "engaged-background",
   "metadata": {},
   "outputs": [],
   "source": [
    "ctd = OOIDataset(\"RS03AXPS-SF03A-2A-CTDPFA302-streamed-ctdpf_sbe43_sample\")[desired_parameters]"
   ]
  },
  {
   "cell_type": "code",
   "execution_count": null,
   "id": "amateur-point",
   "metadata": {},
   "outputs": [],
   "source": [
    "ctd"
   ]
  },
  {
   "cell_type": "markdown",
   "id": "welcome-northwest",
   "metadata": {},
   "source": [
    "This dataset has a total size of 52.2GB"
   ]
  },
  {
   "cell_type": "code",
   "execution_count": null,
   "id": "precious-protein",
   "metadata": {},
   "outputs": [],
   "source": [
    "start_dt, end_dt = \"2020-01-01\", \"2021-01-01\""
   ]
  },
  {
   "cell_type": "code",
   "execution_count": null,
   "id": "diverse-blocking",
   "metadata": {},
   "outputs": [],
   "source": [
    "%%time\n",
    "ctd_ds = ctd.sel(time=slice(start_dt, end_dt)).dataset"
   ]
  },
  {
   "cell_type": "code",
   "execution_count": null,
   "id": "theoretical-george",
   "metadata": {},
   "outputs": [],
   "source": [
    "ctd_ds"
   ]
  },
  {
   "cell_type": "markdown",
   "id": "civilian-immune",
   "metadata": {},
   "source": [
    "There are about 29 million data points within that time range. This is huge for visualization!"
   ]
  },
  {
   "cell_type": "markdown",
   "id": "overhead-essence",
   "metadata": {},
   "source": [
    "We can check the size of 1 year of this dataset"
   ]
  },
  {
   "cell_type": "code",
   "execution_count": null,
   "id": "nominated-kelly",
   "metadata": {},
   "outputs": [],
   "source": [
    "print(f\"This dataset size is {memory_repr(ctd_ds.nbytes)}\")"
   ]
  },
  {
   "cell_type": "markdown",
   "id": "reduced-character",
   "metadata": {},
   "source": [
    "## Plotting"
   ]
  },
  {
   "cell_type": "markdown",
   "id": "running-square",
   "metadata": {},
   "source": [
    "Now let's try to create a depth plot (time, pressure, and temperature). We use **hvPlot** to perform the plotting. Using a plotting tool like matplotlib would take a really long time to plot."
   ]
  },
  {
   "cell_type": "markdown",
   "id": "relative-scout",
   "metadata": {},
   "source": [
    "#### hvPlot Process Diagram\n",
    "\n",
    "<img src=\"https://hvplot.holoviz.org/assets/diagram.png\" width=888 height=450/>\n",
    "\n",
    "To learn more [click here](https://hvplot.holoviz.org/)."
   ]
  },
  {
   "cell_type": "markdown",
   "id": "inside-forty",
   "metadata": {},
   "source": [
    "### Using matplotlib\n",
    "\n",
    "```python\n",
    "fig, ax = plt.subplots()\n",
    "ctd_ds.plot.scatter(x='time', y='seawater_pressure', hue='seawater_temperature', cmap=cmocean.cm.thermal)\n",
    "ax.invert_yaxis()\n",
    "ax.set_title('Axial Base Shallow Profiler CTD')\n",
    "\n",
    "plt.tight_layout()\n",
    "plt.savefig('ctd-profile.png', dpi=300, bbox_inches='tight', transparent=True)\n",
    "```\n",
    "\n",
    "\n",
    "<img src=\"../_static/ctd-profile.png\" width=888 height=450 />\n",
    "\n",
    "For purpose of comparison, the plot above was created with matplotlib pyplot using the builtin xarray plotting function."
   ]
  },
  {
   "cell_type": "code",
   "execution_count": null,
   "id": "dynamic-desktop",
   "metadata": {},
   "outputs": [],
   "source": [
    "plot_size = (888, 450)"
   ]
  },
  {
   "cell_type": "code",
   "execution_count": null,
   "id": "horizontal-military",
   "metadata": {},
   "outputs": [],
   "source": [
    "%%time\n",
    "plot = ctd_ds.hvplot.scatter(\n",
    "    x='time',\n",
    "    y='seawater_pressure',\n",
    "    color='seawater_temperature',\n",
    "    rasterize=True,\n",
    "    cmap=cmocean.cm.thermal,\n",
    "    width=plot_size[0],\n",
    "    height=plot_size[1],\n",
    ").options(\n",
    "    invert_yaxis=True,\n",
    "    title='Axial Base Shallow Profiler CTD'\n",
    ")\n",
    "plot"
   ]
  },
  {
   "cell_type": "markdown",
   "id": "prospective-developer",
   "metadata": {},
   "source": [
    "The hvPlot python library is part of the HoloViz Python Visualization Tools Ecosystem. Underneath, hvPlot utilizes HoloViews and Datashader in order to create the plot. We take the resulting data from the hvPlot plot and serialize that to JSON format for our frontend visualization engine plotly to render.\n",
    "\n",
    "\n",
    "You can see that the resulting datashaded plot has exactly the same pattern seen in the matplotlib plot. For example, around 9/2020 there is a warmer water at the surface. This shows the accuracy of datashading."
   ]
  },
  {
   "cell_type": "markdown",
   "id": "color-pride",
   "metadata": {},
   "source": [
    "#### Datashading Pipeline\n",
    "\n",
    "<img src=\"https://datashader.org/assets/images/pipeline2.png\" width=888 height=450/>\n",
    "\n",
    "To learn more [click here](https://datashader.org/getting_started/Introduction.html)."
   ]
  },
  {
   "cell_type": "code",
   "execution_count": null,
   "id": "baking-engineer",
   "metadata": {},
   "outputs": [],
   "source": [
    "plot_data = plot[()].data"
   ]
  },
  {
   "cell_type": "code",
   "execution_count": null,
   "id": "australian-vacation",
   "metadata": {},
   "outputs": [],
   "source": [
    "plot_data"
   ]
  },
  {
   "cell_type": "markdown",
   "id": "focal-vietnamese",
   "metadata": {},
   "source": [
    "The xarray dataset shown above is the resulting aggregated data from the datashading process that we push to the frontend application."
   ]
  },
  {
   "cell_type": "markdown",
   "id": "dynamic-interim",
   "metadata": {},
   "source": [
    "That's all. That process happens with all of the datasets that we have, when the data request is large enough."
   ]
  }
 ],
 "metadata": {
  "kernelspec": {
   "display_name": "Python 3",
   "language": "python",
   "name": "python3"
  },
  "language_info": {
   "codemirror_mode": {
    "name": "ipython",
    "version": 3
   },
   "file_extension": ".py",
   "mimetype": "text/x-python",
   "name": "python",
   "nbconvert_exporter": "python",
   "pygments_lexer": "ipython3",
   "version": "3.7.6"
  }
 },
 "nbformat": 4,
 "nbformat_minor": 5
}
