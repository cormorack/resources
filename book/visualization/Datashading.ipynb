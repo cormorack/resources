{
 "cells": [
  {
   "cell_type": "markdown",
   "id": "undefined-stupid",
   "metadata": {},
   "source": [
    "# How Interactive Oceans Display Large Dataset"
   ]
  },
  {
   "cell_type": "markdown",
   "id": "developing-doubt",
   "metadata": {},
   "source": [
    "This notebook will walk you through our process in displaying some of the large datasets from OOI"
   ]
  },
  {
   "cell_type": "code",
   "execution_count": null,
   "id": "disabled-utilization",
   "metadata": {},
   "outputs": [],
   "source": []
  }
 ],
 "metadata": {
  "kernelspec": {
   "display_name": "Python 3",
   "language": "python",
   "name": "python3"
  },
  "language_info": {
   "codemirror_mode": {
    "name": "ipython",
    "version": 3
   },
   "file_extension": ".py",
   "mimetype": "text/x-python",
   "name": "python",
   "nbconvert_exporter": "python",
   "pygments_lexer": "ipython3",
   "version": "3.7.6"
  }
 },
 "nbformat": 4,
 "nbformat_minor": 5
}
