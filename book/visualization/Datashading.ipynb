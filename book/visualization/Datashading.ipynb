{
 "cells": [
{
   "cell_type": "markdown",
   "id": "stupid-advocate",
   "metadata": {},
   "source": [
    "# The InteractiveOceans Data Portal"
   ]
  },
  {
   "cell_type": "markdown",
   "id": "subjective-region",
   "metadata": {},
   "source": [
    "The InteractiveOceans Data Portal is an interface designed to enable scientists, educators, and students to quickly locate and plot cabled, real-time Ocean Observatories Initiative (OOI) data produced by the Regional Cabled Array (RCA). The goals of this site are 1) to increase active use of RCA data by scientists and to support educators and public exploration of data in the future; 2) to provide additional tools for scientists to discover, access, visualize, and use RCA data sets suitable for addressing specific science hypotheses; 3) to provide an intuitive, user-friendly data search and visualization interface, coupled with a convenient data downloading scheme; 4) to accelerate research output and engage a broader user base for OOI data. The dashboard provides advanced search capabilities and links to data visualization tools to quickly create plots of various types for streaming data. Because these datasets can be quite large, we use tools like data shading to quickly render a decimated version of the data while retaining the meaningful structure of the time series."
   ]
  },
  {
   "cell_type": "markdown",
   "id": "stupid-advocate",
   "metadata": {},
   "source": [
    "# How Interactive Oceans Displays Large Datasets"
   ]
  },
  {
   "cell_type": "markdown",
   "id": "subjective-region",
   "metadata": {},
   "source": [
    "This notebook will walk you through our process in displaying some of the large datasets from OOI"
   ]
  },
  {
   "cell_type": "code",
   "execution_count": null,
   "id": "solid-senator",
   "metadata": {},
   "outputs": [],
   "source": [
    "import cmocean\n",
    "from dask.utils import memory_repr\n",
    "import matplotlib.pyplot as plt\n",
    "import hvplot.xarray\n",
    "\n",
    "from ooi_harvester.models import OOIDataset"
   ]
  },
  {
   "cell_type": "markdown",
   "id": "competent-hierarchy",
   "metadata": {},
   "source": [
    "## Get Data"
   ]
  },
  {
   "cell_type": "markdown",
   "id": "expressed-bumper",
   "metadata": {},
   "source": [
    "We will be requesting **Axial Base Shallow Profiler CTD Data**"
   ]
  },
  {
   "cell_type": "code",
   "execution_count": null,
   "id": "continent-acting",
   "metadata": {},
   "outputs": [],
   "source": [
    "desired_parameters = ['time', 'seawater_pressure', 'seawater_temperature']"
   ]
  },
  {
   "cell_type": "code",
   "execution_count": null,
   "id": "humanitarian-large",
   "metadata": {},
   "outputs": [],
   "source": [
    "ctd = OOIDataset(\"RS03AXPS-SF03A-2A-CTDPFA302-streamed-ctdpf_sbe43_sample\")[desired_parameters]"
   ]
  },
  {
   "cell_type": "code",
   "execution_count": null,
   "id": "exempt-spectacular",
   "metadata": {},
   "outputs": [],
   "source": [
    "ctd"
   ]
  },
  {
   "cell_type": "markdown",
   "id": "funky-packaging",
   "metadata": {},
   "source": [
    "This dataset has a total size of 52.2GB"
   ]
  },
  {
   "cell_type": "code",
   "execution_count": null,
   "id": "caroline-disco",
   "metadata": {},
   "outputs": [],
   "source": [
    "start_dt, end_dt = \"2020-01-01\", \"2021-01-01\""
   ]
  },
  {
   "cell_type": "code",
   "execution_count": null,
   "id": "celtic-ideal",
   "metadata": {},
   "outputs": [],
   "source": [
    "%%time\n",
    "ctd_ds = ctd.sel(time=slice(start_dt, end_dt)).dataset"
   ]
  },
  {
   "cell_type": "code",
   "execution_count": null,
   "id": "fallen-hampton",
   "metadata": {},
   "outputs": [],
   "source": [
    "ctd_ds"
   ]
  },
  {
   "cell_type": "markdown",
   "id": "narrow-cloud",
   "metadata": {},
   "source": [
    "There are about 29 million data points within that time range. This is huge for visualization!"
   ]
  },
  {
   "cell_type": "markdown",
   "id": "moral-extraction",
   "metadata": {},
   "source": [
    "We can check the size of 1 year of this dataset"
   ]
  },
  {
   "cell_type": "code",
   "execution_count": null,
   "id": "editorial-significance",
   "metadata": {},
   "outputs": [],
   "source": [
    "print(f\"This dataset size is {memory_repr(ctd_ds.nbytes)}\")"
   ]
  },
  {
   "cell_type": "markdown",
   "id": "distributed-sessions",
   "metadata": {},
   "source": [
    "## Plotting"
   ]
  },
  {
   "cell_type": "markdown",
   "id": "seasonal-physiology",
   "metadata": {},
   "source": [
    "Now let's try to create a depth plot (time, pressure, and temperature). We use **hvPlot** to perform the plotting. Using a plotting tool like matplotlib would take a really long time to plot."
   ]
  },
  {
   "cell_type": "markdown",
   "id": "defensive-excess",
   "metadata": {},
   "source": [
    "### hvPlot Process Diagram\n",
    "\n",
    "<img src=\"https://hvplot.holoviz.org/assets/diagram.png\" width=888 height=450/>\n",
    "\n",
    "To learn more [click here](https://hvplot.holoviz.org/)."
   ]
  },
  {
   "cell_type": "markdown",
   "id": "ordered-barbados",
   "metadata": {},
   "source": [
    "### Using matplotlib\n",
    "\n",
    "```python\n",
    "fig, ax = plt.subplots()\n",
    "ctd_ds.plot.scatter(x='time', y='seawater_pressure', hue='seawater_temperature', cmap=cmocean.cm.thermal)\n",
    "ax.invert_yaxis()\n",
    "ax.set_title('Axial Base Shallow Profiler CTD')\n",
    "\n",
    "plt.tight_layout()\n",
    "plt.savefig('ctd-profile.png', dpi=300, bbox_inches='tight', transparent=True)\n",
    "```\n",
    "\n",
    "\n",
    "<img src=\"../_static/ctd-profile.png\" width=888 height=450 />\n",
    "\n",
    "For purpose of comparison, the plot above was created with matplotlib pyplot using the builtin xarray plotting function."
   ]
  },
  {
   "cell_type": "markdown",
   "id": "possible-resistance",
   "metadata": {},
   "source": [
    "### Using hvPlot"
   ]
  },
  {
   "cell_type": "code",
   "execution_count": null,
   "id": "opening-application",
   "metadata": {},
   "outputs": [],
   "source": [
    "plot_size = (888, 450)"
   ]
  },
  {
   "cell_type": "code",
   "execution_count": null,
   "id": "greek-jungle",
   "metadata": {},
   "outputs": [],
   "source": [
    "%%time\n",
    "plot = ctd_ds.hvplot.scatter(\n",
    "    x='time',\n",
    "    y='seawater_pressure',\n",
    "    color='seawater_temperature',\n",
    "    rasterize=True,\n",
    "    cmap=cmocean.cm.thermal,\n",
    "    width=plot_size[0],\n",
    "    height=plot_size[1],\n",
    ").options(\n",
    "    invert_yaxis=True,\n",
    "    title='Axial Base Shallow Profiler CTD'\n",
    ")\n",
    "plot"
   ]
  },
  {
   "cell_type": "markdown",
   "id": "prostate-allen",
   "metadata": {},
   "source": [
    "The hvPlot python library is part of the HoloViz Python Visualization Tools Ecosystem. Underneath, hvPlot utilizes HoloViews and Datashader in order to create the plot. We take the resulting data from the hvPlot plot and serialize that to JSON format for our frontend visualization engine plotly to render.\n",
    "\n",
    "\n",
    "You can see that the resulting datashaded plot has exactly the same pattern seen in the matplotlib plot. For example, around 9/2020 there is a warmer water at the surface. This shows the accuracy of datashading."
   ]
  },
  {
   "cell_type": "markdown",
   "id": "young-damage",
   "metadata": {},
   "source": [
    "#### Datashading Pipeline\n",
    "\n",
    "<img src=\"https://datashader.org/assets/images/pipeline2.png\" width=888 height=450/>\n",
    "\n",
    "To learn more [click here](https://datashader.org/getting_started/Introduction.html)."
   ]
  },
  {
   "cell_type": "markdown",
   "id": "homeless-likelihood",
   "metadata": {},
   "source": [
    "### Extracting underlying dataset"
   ]
  },
  {
   "cell_type": "code",
   "execution_count": null,
   "id": "based-diamond",
   "metadata": {},
   "outputs": [],
   "source": [
    "plot_data = plot[()].data"
   ]
  },
  {
   "cell_type": "code",
   "execution_count": null,
   "id": "destroyed-annex",
   "metadata": {},
   "outputs": [],
   "source": [
    "plot_data"
   ]
  },
  {
   "cell_type": "markdown",
   "id": "interior-timothy",
   "metadata": {},
   "source": [
    "The xarray dataset shown above is the resulting aggregated data from the datashading process that we push to the frontend application."
   ]
  },
  {
   "cell_type": "markdown",
   "id": "ambient-contrary",
   "metadata": {},
   "source": [
    "That's all. That process happens with all of the datasets that we have, when the data request is large enough."
   ]
  }
 ],
 "metadata": {
  "kernelspec": {
   "display_name": "Python 3",
   "language": "python",
   "name": "python3"
  },
  "language_info": {
   "codemirror_mode": {
    "name": "ipython",
    "version": 3
   },
   "file_extension": ".py",
   "mimetype": "text/x-python",
   "name": "python",
   "nbconvert_exporter": "python",
   "pygments_lexer": "ipython3",
   "version": "3.7.6"
  }
 },
 "nbformat": 4,
 "nbformat_minor": 5
}
